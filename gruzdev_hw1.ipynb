{
 "cells": [
  {
   "cell_type": "markdown",
   "metadata": {
    "colab_type": "text",
    "id": "1t1BGYDYhdxb"
   },
   "source": [
    "**Общая информация**\n",
    "\n",
    "**Срок сдачи:** 16 марта 2020, 08:30 \n",
    "\n",
    "**Штраф за опоздание:** по 1 баллу за 24 часа задержки. Через 5 дней домашнее задание сгорает.\n",
    "\n",
    "При отправлении ДЗ указывайте фамилию в названии файла\n",
    "Присылать ДЗ необходимо в виде ссылки на свой github репозиторий на почту ml1.sphere@mail.ru с указанием темы в следующем формате:\n",
    "\n",
    "[ML0220, Задание 1] Фамилия Имя.\n",
    "\n",
    "Используйте данный Ipython Notebook при оформлении домашнего задания."
   ]
  },
  {
   "cell_type": "markdown",
   "metadata": {
    "colab_type": "text",
    "id": "wWrtw3eihdxf"
   },
   "source": [
    "\n",
    "**Штрафные баллы:**\n",
    "\n",
    "1. Отсутствие фамилии в имени скрипта (скрипт должен называться по аналогии со stroykova_hw1.ipynb) -0.5 баллов\n",
    "2. Все строчки должны быть выполнены. Нужно, чтобы output команды можно было увидеть уже в git'е. В противном случае -0.5 баллов\n"
   ]
  },
  {
   "cell_type": "code",
   "execution_count": 0,
   "metadata": {
    "colab": {},
    "colab_type": "code",
    "id": "yz6aGxfFhdxg"
   },
   "outputs": [],
   "source": [
    "import numpy as np\n",
    "import matplotlib.pyplot as plt\n",
    "\n",
    "import seaborn as sns\n",
    "from sklearn import datasets\n",
    "from sklearn.base import BaseEstimator\n",
    "from sklearn.datasets import fetch_20newsgroups\n",
    "from sklearn.feature_extraction.text import CountVectorizer,TfidfVectorizer\n",
    "from sklearn.model_selection import train_test_split\n",
    "from sklearn.neighbors import KNeighborsClassifier,KDTree\n",
    "from sklearn.metrics import accuracy_score\n",
    "from sklearn.model_selection import StratifiedKFold\n",
    "import pylab as pl\n",
    "from matplotlib.colors import ListedColormap\n",
    "from scipy.spatial.distance import cdist\n"
   ]
  },
  {
   "cell_type": "code",
   "execution_count": 0,
   "metadata": {
    "colab": {},
    "colab_type": "code",
    "id": "qB-G3TT3Cys8"
   },
   "outputs": [],
   "source": [
    "%matplotlib inline"
   ]
  },
  {
   "cell_type": "markdown",
   "metadata": {
    "colab_type": "text",
    "id": "92dIvfmAhdxl"
   },
   "source": [
    "##### Задание 1 (1 балл)\n",
    "Реализовать KNN в классе MyKNeighborsClassifier (обязательное условие: точность не ниже sklearn реализации)\n",
    "Разберитесь самостоятельно, какая мера расстояния используется в KNeighborsClassifier дефолтно и реализуйте свой алгоритм именно с этой мерой. \n",
    "Для подсчета расстояний можно использовать функции [отсюда](https://docs.scipy.org/doc/scipy/reference/spatial.distance.html)"
   ]
  },
  {
   "cell_type": "code",
   "execution_count": 0,
   "metadata": {
    "colab": {},
    "colab_type": "code",
    "id": "W9gNiyc-hdxm"
   },
   "outputs": [],
   "source": [
    "class MyKNeighborsClassifier(BaseEstimator):\n",
    "    \n",
    "    def __init__(self, n_neighbors, algorithm='brute',metric = 'euclidean'):\n",
    "        self.n_neighbors = n_neighbors\n",
    "        self.algorithm = algorithm\n",
    "        self.metric = metric\n",
    "    \n",
    "    def fit(self, X, y):\n",
    "        if(self.algorithm == 'brute'):\n",
    "            self.X_tr = X\n",
    "            self.y_tr = y\n",
    "        elif(self.algorithm == 'kd_tree'):\n",
    "            self.Ktree = KDTree(X)\n",
    "            self.y_tr = y\n",
    "            \n",
    "    \n",
    "    def predict(self, X):\n",
    "        def maxy(y):\n",
    "            res,count = np.unique(y,return_counts = True)\n",
    "            return res[np.argmax(count)]\n",
    "        funk = lambda x,y: y[x]\n",
    "        if(self.algorithm == 'brute'):\n",
    "            y = np.apply_along_axis(np.argpartition,1,cdist(X,self.X_tr,metric = self.metric),self.n_neighbors)[:,:self.n_neighbors]\n",
    "            return np.apply_along_axis(maxy,1,np.apply_along_axis(funk,0,y,self.y_tr))\n",
    "        elif(self.algorithm == 'kd_tree'):\n",
    "            _,y = self.Ktree.query(X,k = self.n_neighbors)\n",
    "            return np.apply_along_axis(maxy,1,np.apply_along_axis(funk,0,y,y_train))\n",
    "    "
   ]
  },
  {
   "cell_type": "markdown",
   "metadata": {
    "colab_type": "text",
    "id": "ei33xuMshdxq"
   },
   "source": [
    "**IRIS**\n",
    "\n",
    "В библиотеке scikit-learn есть несколько датасетов из коробки. Один из них [Ирисы Фишера](https://ru.wikipedia.org/wiki/%D0%98%D1%80%D0%B8%D1%81%D1%8B_%D0%A4%D0%B8%D1%88%D0%B5%D1%80%D0%B0)"
   ]
  },
  {
   "cell_type": "code",
   "execution_count": 0,
   "metadata": {
    "colab": {},
    "colab_type": "code",
    "id": "zqEYFBHEhdxr"
   },
   "outputs": [],
   "source": [
    "iris = datasets.load_iris()"
   ]
  },
  {
   "cell_type": "code",
   "execution_count": 0,
   "metadata": {
    "colab": {},
    "colab_type": "code",
    "id": "dBQ05tLFhdxv"
   },
   "outputs": [],
   "source": [
    "X_train, X_test, y_train, y_test = train_test_split(iris.data, iris.target, test_size=0.1, stratify=iris.target)"
   ]
  },
  {
   "cell_type": "code",
   "execution_count": 0,
   "metadata": {
    "colab": {},
    "colab_type": "code",
    "id": "I8jIKYothdxz"
   },
   "outputs": [],
   "source": [
    "clf = KNeighborsClassifier(n_neighbors=2, algorithm='brute')\n",
    "my_clf = MyKNeighborsClassifier(n_neighbors=2, algorithm='brute')"
   ]
  },
  {
   "cell_type": "code",
   "execution_count": 0,
   "metadata": {
    "colab": {},
    "colab_type": "code",
    "id": "JHfy6nZHhdx3"
   },
   "outputs": [],
   "source": [
    "clf.fit(X_train, y_train)\n",
    "my_clf.fit(X_train, y_train)"
   ]
  },
  {
   "cell_type": "code",
   "execution_count": 0,
   "metadata": {
    "colab": {},
    "colab_type": "code",
    "id": "BIGhQXxAhdx6"
   },
   "outputs": [],
   "source": [
    "sklearn_pred = clf.predict(X_test)\n",
    "my_clf_pred = my_clf.predict(X_test)\n",
    "assert abs( accuracy_score(y_test, my_clf_pred) -  accuracy_score(y_test, sklearn_pred ) )<0.005, \"Score must be simillar\""
   ]
  },
  {
   "cell_type": "markdown",
   "metadata": {
    "colab_type": "text",
    "id": "sp1tRiV-hdx_"
   },
   "source": [
    "**Задание 2 (0.5 балла)**\n",
    "\n",
    "Давайте попробуем добиться скорости работы на fit, predict сравнимой со sklearn для iris. Допускается замедление не более чем в 2 раза. \n",
    "Для этого используем numpy. "
   ]
  },
  {
   "cell_type": "code",
   "execution_count": 0,
   "metadata": {
    "colab": {
     "base_uri": "https://localhost:8080/",
     "height": 101
    },
    "colab_type": "code",
    "id": "kc_dwD_JhdyA",
    "outputId": "4e3c0fbd-7621-4f8e-d8e7-9ceee55aa66c"
   },
   "outputs": [
    {
     "name": "stdout",
     "output_type": "stream",
     "text": [
      "CPU times: user 499 µs, sys: 0 ns, total: 499 µs\n",
      "Wall time: 505 µs\n"
     ]
    },
    {
     "data": {
      "text/plain": [
       "KNeighborsClassifier(algorithm='brute', leaf_size=30, metric='minkowski',\n",
       "                     metric_params=None, n_jobs=None, n_neighbors=2, p=2,\n",
       "                     weights='uniform')"
      ]
     },
     "execution_count": 9,
     "metadata": {
      "tags": []
     },
     "output_type": "execute_result"
    }
   ],
   "source": [
    "%time clf.fit(X_train, y_train)"
   ]
  },
  {
   "cell_type": "code",
   "execution_count": 0,
   "metadata": {
    "colab": {
     "base_uri": "https://localhost:8080/",
     "height": 50
    },
    "colab_type": "code",
    "id": "l96VvWULhdyE",
    "outputId": "2189fbd4-b9f2-4666-98bc-3a32740eea46"
   },
   "outputs": [
    {
     "name": "stdout",
     "output_type": "stream",
     "text": [
      "CPU times: user 6 µs, sys: 1 µs, total: 7 µs\n",
      "Wall time: 9.3 µs\n"
     ]
    }
   ],
   "source": [
    "%time my_clf.fit(X_train, y_train)"
   ]
  },
  {
   "cell_type": "code",
   "execution_count": 0,
   "metadata": {
    "colab": {
     "base_uri": "https://localhost:8080/",
     "height": 67
    },
    "colab_type": "code",
    "id": "OvupSwOBhdyH",
    "outputId": "46be77c7-74b2-43d0-da42-3a3ff83ebbf3"
   },
   "outputs": [
    {
     "name": "stdout",
     "output_type": "stream",
     "text": [
      "CPU times: user 2.45 ms, sys: 0 ns, total: 2.45 ms\n",
      "Wall time: 2.53 ms\n"
     ]
    },
    {
     "data": {
      "text/plain": [
       "array([0, 2, 0, 2, 1, 1, 0, 2, 0, 1, 1, 0, 2, 1, 2])"
      ]
     },
     "execution_count": 11,
     "metadata": {
      "tags": []
     },
     "output_type": "execute_result"
    }
   ],
   "source": [
    "%time clf.predict(X_test)"
   ]
  },
  {
   "cell_type": "code",
   "execution_count": 0,
   "metadata": {
    "colab": {
     "base_uri": "https://localhost:8080/",
     "height": 67
    },
    "colab_type": "code",
    "id": "6hHGsMsdhdyK",
    "outputId": "b2344b05-f2b5-4cb9-b153-844a1780124d"
   },
   "outputs": [
    {
     "name": "stdout",
     "output_type": "stream",
     "text": [
      "CPU times: user 2.35 ms, sys: 879 µs, total: 3.22 ms\n",
      "Wall time: 2.62 ms\n"
     ]
    },
    {
     "data": {
      "text/plain": [
       "array([0, 2, 0, 2, 1, 1, 0, 2, 0, 1, 1, 0, 2, 1, 2])"
      ]
     },
     "execution_count": 12,
     "metadata": {
      "tags": []
     },
     "output_type": "execute_result"
    }
   ],
   "source": [
    "%time my_clf.predict(X_test)"
   ]
  },
  {
   "cell_type": "markdown",
   "metadata": {
    "colab_type": "text",
    "id": "aayx2uF3hdyN"
   },
   "source": [
    "###### Задание 3 (1 балл)\n",
    "Добавьте algorithm='kd_tree' в реализацию KNN (использовать KDTree из sklearn.neighbors). Необходимо добиться скорости работы на fit,  predict сравнимой со sklearn для iris. Допускается замедление не более чем в 2 раза. \n",
    "Для этого используем numpy. Точность не должна уступать значению KNN из sklearn. "
   ]
  },
  {
   "cell_type": "code",
   "execution_count": 0,
   "metadata": {
    "colab": {},
    "colab_type": "code",
    "id": "4mJFQ2mQhdyO"
   },
   "outputs": [],
   "source": [
    "clf = KNeighborsClassifier(n_neighbors=2, algorithm='kd_tree')\n",
    "my_clf = MyKNeighborsClassifier(n_neighbors=2, algorithm='kd_tree')"
   ]
  },
  {
   "cell_type": "code",
   "execution_count": 0,
   "metadata": {
    "colab": {},
    "colab_type": "code",
    "id": "Ru-OcMoThdyS"
   },
   "outputs": [],
   "source": [
    "X_train, X_test, y_train, y_test = train_test_split(iris.data, iris.target, test_size=0.1, stratify=iris.target)"
   ]
  },
  {
   "cell_type": "code",
   "execution_count": 0,
   "metadata": {
    "colab": {
     "base_uri": "https://localhost:8080/",
     "height": 101
    },
    "colab_type": "code",
    "id": "b0sBB0FwhdyV",
    "outputId": "c26f16e8-3d79-47b6-8b67-7340055854bc"
   },
   "outputs": [
    {
     "name": "stdout",
     "output_type": "stream",
     "text": [
      "CPU times: user 1.98 ms, sys: 0 ns, total: 1.98 ms\n",
      "Wall time: 7.92 ms\n"
     ]
    },
    {
     "data": {
      "text/plain": [
       "KNeighborsClassifier(algorithm='kd_tree', leaf_size=30, metric='minkowski',\n",
       "                     metric_params=None, n_jobs=None, n_neighbors=2, p=2,\n",
       "                     weights='uniform')"
      ]
     },
     "execution_count": 15,
     "metadata": {
      "tags": []
     },
     "output_type": "execute_result"
    }
   ],
   "source": [
    "%time clf.fit(X_train, y_train)"
   ]
  },
  {
   "cell_type": "code",
   "execution_count": 0,
   "metadata": {
    "colab": {
     "base_uri": "https://localhost:8080/",
     "height": 50
    },
    "colab_type": "code",
    "id": "kehmV1NThdyZ",
    "outputId": "9596ce89-fe9e-41f9-86ae-37db986b60b9"
   },
   "outputs": [
    {
     "name": "stdout",
     "output_type": "stream",
     "text": [
      "CPU times: user 530 µs, sys: 98 µs, total: 628 µs\n",
      "Wall time: 827 µs\n"
     ]
    }
   ],
   "source": [
    "%time my_clf.fit(X_train, y_train)"
   ]
  },
  {
   "cell_type": "code",
   "execution_count": 0,
   "metadata": {
    "colab": {
     "base_uri": "https://localhost:8080/",
     "height": 67
    },
    "colab_type": "code",
    "id": "YD8V_pkThdyc",
    "outputId": "474bdba7-70cf-4a55-99d2-05ddae567252"
   },
   "outputs": [
    {
     "name": "stdout",
     "output_type": "stream",
     "text": [
      "CPU times: user 2.34 ms, sys: 879 µs, total: 3.22 ms\n",
      "Wall time: 2.85 ms\n"
     ]
    },
    {
     "data": {
      "text/plain": [
       "array([2, 0, 0, 2, 2, 0, 1, 1, 0, 0, 2, 2, 1, 1, 1])"
      ]
     },
     "execution_count": 17,
     "metadata": {
      "tags": []
     },
     "output_type": "execute_result"
    }
   ],
   "source": [
    "%time clf.predict(X_test)"
   ]
  },
  {
   "cell_type": "code",
   "execution_count": 0,
   "metadata": {
    "colab": {
     "base_uri": "https://localhost:8080/",
     "height": 67
    },
    "colab_type": "code",
    "id": "_jT_536Thdyf",
    "outputId": "b9374bcc-59f9-4ad3-9926-a87d26f248d3"
   },
   "outputs": [
    {
     "name": "stdout",
     "output_type": "stream",
     "text": [
      "CPU times: user 2.55 ms, sys: 0 ns, total: 2.55 ms\n",
      "Wall time: 2.14 ms\n"
     ]
    },
    {
     "data": {
      "text/plain": [
       "array([2, 0, 0, 2, 2, 0, 1, 1, 0, 0, 2, 2, 1, 1, 1])"
      ]
     },
     "execution_count": 18,
     "metadata": {
      "tags": []
     },
     "output_type": "execute_result"
    }
   ],
   "source": [
    "%time my_clf.predict(X_test)"
   ]
  },
  {
   "cell_type": "code",
   "execution_count": 0,
   "metadata": {
    "colab": {},
    "colab_type": "code",
    "id": "TqDEesdBhdyi"
   },
   "outputs": [],
   "source": [
    "sklearn_pred = clf.predict(X_test)\n",
    "my_clf_pred = my_clf.predict(X_test)\n",
    "assert abs( accuracy_score(y_test, my_clf_pred) -  accuracy_score(y_test, sklearn_pred ) )<0.005, \"Score must be simillar\""
   ]
  },
  {
   "cell_type": "markdown",
   "metadata": {
    "colab_type": "text",
    "id": "bHlYhqXFhdym"
   },
   "source": [
    "**Задание 4 (2.5 балла)**\n",
    "\n",
    "Рассмотрим новый датасет 20 newsgroups"
   ]
  },
  {
   "cell_type": "code",
   "execution_count": 0,
   "metadata": {
    "colab": {
     "base_uri": "https://localhost:8080/",
     "height": 50
    },
    "colab_type": "code",
    "id": "1aAIoBaRhdyn",
    "outputId": "4553debe-8681-42c1-9dff-232aa3947340"
   },
   "outputs": [
    {
     "name": "stderr",
     "output_type": "stream",
     "text": [
      "Downloading 20news dataset. This may take a few minutes.\n",
      "Downloading dataset from https://ndownloader.figshare.com/files/5975967 (14 MB)\n"
     ]
    }
   ],
   "source": [
    "newsgroups = fetch_20newsgroups(subset='train',remove=['headers','footers', 'quotes'])"
   ]
  },
  {
   "cell_type": "code",
   "execution_count": 0,
   "metadata": {
    "colab": {},
    "colab_type": "code",
    "id": "EAZG1u5hhdyq"
   },
   "outputs": [],
   "source": [
    "data = newsgroups['data']\n",
    "target = newsgroups['target']"
   ]
  },
  {
   "cell_type": "markdown",
   "metadata": {
    "colab_type": "text",
    "id": "Rgixzt5mhdys"
   },
   "source": [
    "Преобразуйте текстовые данные из data с помощью [CountVectorizer](https://scikit-learn.org/stable/modules/generated/sklearn.feature_extraction.text.CountVectorizer.html). Словарь можно ограничить по частотности."
   ]
  },
  {
   "cell_type": "code",
   "execution_count": 0,
   "metadata": {
    "colab": {},
    "colab_type": "code",
    "id": "ZD0fTlkLhdyt"
   },
   "outputs": [],
   "source": [
    "count_vect = CountVectorizer(min_df = 100,max_df = 0.8,stop_words = 'english')\n",
    "tfid_vect = TfidfVectorizer(min_df = 100,max_df = 0.8,stop_words = 'english')#на будущее\n",
    "X_train_count = count_vect.fit_transform(data)\n",
    "X_train_tfid = tfid_vect.fit_transform(data)"
   ]
  },
  {
   "cell_type": "markdown",
   "metadata": {
    "colab_type": "text",
    "id": "ldY5_iSXhdyv"
   },
   "source": [
    "*Так мы получили векторное представление наших текстов. Значит можно приступать к задаче обучения модели*"
   ]
  },
  {
   "cell_type": "markdown",
   "metadata": {
    "colab_type": "text",
    "id": "7-0h5Exrhdyw"
   },
   "source": [
    "Реализуйте разбиение выборки для кросс-валидации на 3 фолдах. Разрешено использовать sklearn.cross_validation"
   ]
  },
  {
   "cell_type": "code",
   "execution_count": 0,
   "metadata": {
    "colab": {
     "base_uri": "https://localhost:8080/",
     "height": 87
    },
    "colab_type": "code",
    "id": "IWLio0LGhdyx",
    "outputId": "4b0a328c-1d98-489b-99e6-f46bb800384c"
   },
   "outputs": [
    {
     "name": "stdout",
     "output_type": "stream",
     "text": [
      "TRAIN: [ 3575  3578  3609 ... 11311 11312 11313] TEST: [   0    1    2 ... 4083 4088 4095]\n",
      "TRAIN: [    0     1     2 ... 11311 11312 11313] TEST: [3575 3578 3609 ... 7861 7869 7945]\n",
      "TRAIN: [   0    1    2 ... 7861 7869 7945] TEST: [ 7140  7176  7193 ... 11311 11312 11313]\n"
     ]
    }
   ],
   "source": [
    "kf = StratifiedKFold(n_splits=3)\n",
    "for train_index, test_index in kf.split(X_train_count,target):\n",
    "    print(\"TRAIN:\", train_index, \"TEST:\", test_index)\n",
    "    X_train, X_test = X_train_count[train_index], X_train_count[test_index]\n",
    "    y_train, y_test = target[train_index], target[test_index]"
   ]
  },
  {
   "cell_type": "code",
   "execution_count": 0,
   "metadata": {
    "colab": {},
    "colab_type": "code",
    "id": "IqImWuvhhdy0"
   },
   "outputs": [],
   "source": [
    "def search_optim(X,y,K,Metric):\n",
    "    skf = StratifiedKFold(n_splits=3)\n",
    "    accur_array = []\n",
    "    for k in K:\n",
    "        accur = 0\n",
    "        for train_index, test_index in skf.split(X, y):\n",
    "            X_train, X_test = X[train_index], X[test_index]\n",
    "            y_train, y_test = y[train_index], y[test_index]\n",
    "            my_clf = MyKNeighborsClassifier(n_neighbors=k, algorithm='brute',\n",
    "                                            metric = Metric)\n",
    "            my_clf.fit(X_train.toarray(), y_train)\n",
    "            my_clf_pred = my_clf.predict(X_test.toarray())\n",
    "            accur+=accuracy_score(y_test, my_clf_pred)\n",
    "        accur_array.append(accur/3)\n",
    "    return np.argmax(np.array(accur_array)),np.array(accur_array)"
   ]
  },
  {
   "cell_type": "markdown",
   "metadata": {
    "colab_type": "text",
    "id": "6M87AEHvhdy3"
   },
   "source": [
    "Напишите метод, позволяющий найти оптимальное количество ближайших соседей(дающее максимальную точность в среднем на валидации на 3 фолдах).\n",
    "Постройте график зависимости средней точности от количества соседей. Можно рассмотреть число соседей от 1 до 10."
   ]
  },
  {
   "cell_type": "code",
   "execution_count": 0,
   "metadata": {
    "colab": {},
    "colab_type": "code",
    "id": "tnKvx71Thdy4"
   },
   "outputs": [],
   "source": [
    "K = np.arange(1,11)"
   ]
  },
  {
   "cell_type": "code",
   "execution_count": 0,
   "metadata": {
    "colab": {
     "base_uri": "https://localhost:8080/",
     "height": 50
    },
    "colab_type": "code",
    "id": "6jNNB5Owk2WA",
    "outputId": "36ed0248-4ca0-438d-baff-5320b63143d5"
   },
   "outputs": [
    {
     "name": "stdout",
     "output_type": "stream",
     "text": [
      "0 [0.2551709  0.22344024 0.23422385 0.23448884 0.23864272 0.23767067\n",
      " 0.24129433 0.24147081 0.23864263 0.23943792]\n"
     ]
    }
   ],
   "source": [
    "k1,acc_1 = search_optim(X_train_count,target,K,'euclidean')\n",
    "print(k1,acc_1)"
   ]
  },
  {
   "cell_type": "code",
   "execution_count": 0,
   "metadata": {
    "colab": {
     "base_uri": "https://localhost:8080/",
     "height": 50
    },
    "colab_type": "code",
    "id": "XlgeIz0Ak_ib",
    "outputId": "c989001b-85dc-405d-b0c0-f0c995313725"
   },
   "outputs": [
    {
     "name": "stdout",
     "output_type": "stream",
     "text": [
      "9 [0.37360825 0.35195297 0.3738724  0.39137261 0.39853144 0.40940375\n",
      " 0.41585568 0.42160095 0.42381043 0.42849539]\n"
     ]
    }
   ],
   "source": [
    "k2,acc_2 = search_optim(X_train_count,target,K,'cosine')\n",
    "print(k2,acc_2)"
   ]
  },
  {
   "cell_type": "code",
   "execution_count": 0,
   "metadata": {
    "colab": {
     "base_uri": "https://localhost:8080/",
     "height": 50
    },
    "colab_type": "code",
    "id": "BVqRGEI6lJZz",
    "outputId": "0136ef29-2179-4cda-a9fe-97df337944e6"
   },
   "outputs": [
    {
     "name": "stdout",
     "output_type": "stream",
     "text": [
      "0 [0.18667164 0.13098799 0.14071076 0.1354075  0.12966246 0.12524309\n",
      " 0.1234758  0.12117749 0.11790748 0.11693508]\n"
     ]
    }
   ],
   "source": [
    "k3,acc_3 = search_optim(X_train_tfid,target,K,'euclidean')\n",
    "print(k3,acc_3)"
   ]
  },
  {
   "cell_type": "code",
   "execution_count": 0,
   "metadata": {
    "colab": {
     "base_uri": "https://localhost:8080/",
     "height": 50
    },
    "colab_type": "code",
    "id": "CYSChP2qlPE7",
    "outputId": "1dbc3c7e-2060-47ea-c1f0-31ef86449ae8"
   },
   "outputs": [
    {
     "name": "stdout",
     "output_type": "stream",
     "text": [
      "9 [0.40648841 0.3864237  0.40754848 0.42955621 0.44475912 0.45368606\n",
      " 0.45996198 0.46455754 0.46862336 0.47145168]\n"
     ]
    }
   ],
   "source": [
    "k4,acc_4 = search_optim(X_train_tfid,target,K,'cosine')\n",
    "print(k4,acc_4)"
   ]
  },
  {
   "cell_type": "markdown",
   "metadata": {
    "colab_type": "text",
    "id": "fNfvBFw4BTnH"
   },
   "source": [
    "## Графики\n"
   ]
  },
  {
   "cell_type": "code",
   "execution_count": 0,
   "metadata": {
    "colab": {
     "base_uri": "https://localhost:8080/",
     "height": 674
    },
    "colab_type": "code",
    "id": "fs3Dm0U3BeTm",
    "outputId": "b9a145ea-f97c-445a-c358-a2a3e53adab3"
   },
   "outputs": [
    {
     "data": {
      "image/png": "[encoded data removed]",
      "text/plain": [
       "<Figure size 936x576 with 4 Axes>"
      ]
     },
     "metadata": {
      "tags": []
     },
     "output_type": "display_data"
    }
   ],
   "source": [
    "ymin,ymax = 0.1,0.5\n",
    "fig,axes = plt.subplots(2,2,figsize = (13,8),sharex=True, sharey=True)\n",
    "fig.suptitle('dependence of accuracy on the number of nearest neighbors for Knn',\n",
    "             y = 1.1,\n",
    "             fontsize = 30)\n",
    "axes[0,0].plot(K,acc_1,'r',linestyle = ':',linewidth = 5)\n",
    "axes[0,1].plot(K,acc_2,'r',linestyle = ':',linewidth = 5)\n",
    "axes[1,0].plot(K,acc_3,'y',linestyle = ':',linewidth = 5)\n",
    "axes[1,1].plot(K,acc_4,'y',linestyle = ':',linewidth = 5)\n",
    "axes[0,0].set_title('for CountVectorizer with Euclidean metric')\n",
    "axes[0,1].set_title('for CountVectorizer with cosine metrics')\n",
    "axes[1,1].set_title('for TfidfVectorizer with cosine metrics')\n",
    "axes[1,0].set_title('for TfidfVectorizer with Euclidean metrics')\n",
    "axes[0,0].set_ylim(ymin,ymax)\n",
    "axes[1,0].set_ylim(ymin,ymax)\n",
    "axes[0,1].set_ylim(ymin,ymax)\n",
    "axes[1,1].set_ylim(ymin,ymax)\n",
    "axes[0,0].set_ylabel('accuracy')\n",
    "axes[1,0].set_ylabel('accuracy')\n",
    "axes[1,0].set_xlabel('number of neighbors')\n",
    "axes[1,1].set_xlabel('number of neighbors')\n",
    "fig.tight_layout()\n",
    "fig.show()"
   ]
  },
  {
   "cell_type": "markdown",
   "metadata": {
    "colab_type": "text",
    "id": "61h8vtGAhdy7"
   },
   "source": [
    "Как изменится качество на валидации, если:\n",
    "\n",
    "1. Используется косинусная метрика вместо евклидовой.\n",
    "2. К текстам применяется TfIdf векторизацию( sklearn.feature_extraction.text.TfidfVectorizer)\n",
    "\n",
    "Сравните модели, выберите лучшую."
   ]
  },
  {
   "cell_type": "markdown",
   "metadata": {
    "colab_type": "text",
    "id": "HZjWoyOthdy_"
   },
   "source": [
    "Загрузим  теперь test  часть нашей выборки и преобразуем её аналогично с train частью. Не забудьте, что наборы слов в train и test части могут отличаться."
   ]
  },
  {
   "cell_type": "code",
   "execution_count": 0,
   "metadata": {
    "colab": {},
    "colab_type": "code",
    "id": "72yIaNx7hdzA"
   },
   "outputs": [],
   "source": [
    "newsgroups = fetch_20newsgroups(subset='test',remove=['headers','footers', 'quotes'])"
   ]
  },
  {
   "cell_type": "code",
   "execution_count": 0,
   "metadata": {
    "colab": {},
    "colab_type": "code",
    "id": "QFqZjunLQT_v"
   },
   "outputs": [],
   "source": [
    "test_data = newsgroups['data']\n",
    "test_target = newsgroups['target']"
   ]
  },
  {
   "cell_type": "code",
   "execution_count": 0,
   "metadata": {
    "colab": {},
    "colab_type": "code",
    "id": "pdqDosK4QcVM"
   },
   "outputs": [],
   "source": [
    "X_test_tfid = tfid_vect.transform(test_data)"
   ]
  },
  {
   "cell_type": "code",
   "execution_count": 0,
   "metadata": {
    "colab": {
     "base_uri": "https://localhost:8080/",
     "height": 34
    },
    "colab_type": "code",
    "id": "v78lfG5RQqHZ",
    "outputId": "063b9e3b-e8a6-49d5-ae72-ef3197668aa3"
   },
   "outputs": [
    {
     "data": {
      "text/plain": [
       "0.4179500796601168"
      ]
     },
     "execution_count": 91,
     "metadata": {
      "tags": []
     },
     "output_type": "execute_result"
    }
   ],
   "source": [
    "my_clf = MyKNeighborsClassifier(n_neighbors=k4+1, algorithm='brute',\n",
    "                                metric='cosine')\n",
    "my_clf.fit(X_train_tfid.toarray(), target)\n",
    "my_clf_pred = my_clf.predict(X_test_tfid.toarray())\n",
    "accuracy_score(test_target, my_clf_pred)"
   ]
  },
  {
   "cell_type": "markdown",
   "metadata": {
    "colab_type": "text",
    "id": "4SXJKvT-hdzE"
   },
   "source": [
    "Оценим точность вашей лучшей модели на test части датасета. Отличается ли оно от кросс-валидации? Попробуйте сделать выводы, почему отличается качество."
   ]
  },
  {
   "cell_type": "markdown",
   "metadata": {
    "colab_type": "text",
    "id": "0XxIl0h-Vro1"
   },
   "source": [
    "## Итоги"
   ]
  },
  {
   "cell_type": "markdown",
   "metadata": {},
   "source": [
    "- Для анализа текста в случае применения метода Knn лучше оказалось применять Tfidf векторизацию тк нам важно значимость слов,  а не просто их присутсвие  \n",
    "- Косинусная метрика оказалась лучше евклидовой, так как она она показывает нам схожесть текстов, а не расстояние между ними, в случае евклидовой метрики   \n",
    "- Легко заметить, что в случае евклидовой метрики наилучшим количеством соседей является - наименьшее их количество, а в косинусной при к>2 она только растет - думаю это связано с тем, что в случае 1-й метрики новые ближайшие соседи начинали портить прогноз, тк они могли быть схожими из-за большого количества совпадающих слов, хотя смысловые их части могли отличаться, а в случае второй - мы выбирали наиближайшими именно 'схожие' тексты, за счет чего, при увеличении количество влияющих соседей, наш алгоритм лучше предсказывал категорию текста. Я уверен, что при увеличении к до 20, а может и больше, точность бы продолжала расти(проверял для к = 20, дествительно стала выше - 0.446, для к = 30 точность - 0.46, для к = 40 - 0.467,к = 50 - 0.468, даже для к = 100 точность растет и равняется = 0.49)  \n",
    "- Точность получилась ниже, чем была на кросс валидации, но не сильно - это можно обосновать тем, что  в тестовой выборке появились тексты с новыми значивыми словами, которых небыло в нашей тренировочной выборке,считаю, что немного неверное ограничение частот нашего словаря повлияло пагубно на репрезентативность выборки, так-же стоит заметить, что почти наверное наша выборка текстов не покрывает все возможные тексты данных категорий, тем самым - получить 100 процентную точность в случае использования любого алгоритма, скорее всего не получиться, так как мы не можем состоятельно оценить распределение генеральной совокупности  \n",
    "- Считаю, что низкая точность вообще вышла из-за:  \n",
    "1) Линейности весов и непараметричности нашего алгоритма, при огромной размерности векторов-признаков наших текстов. Скорее всего, если бы были взяты нелинейные веса - точность бы выросла  \n",
    "2) Вектора признаков имеют размерность 1336, при количестве в 11314 - это означает их линейную зависимость, которая делает апроксимируемое распределение не однозначным  \n",
    "3) классы в обучающей выборке предствалены не равнозначно, например: наиболее часто встречаемый класс - 10, имеет 600 представителей, в то время, как 19 - всего 377, что делает вероятность верного предсказания 19-го класса существенно ниже, чем 10(при к =20, косинусной мерой и Tfidf векторизацией с тем-же набором параметров разница в точности предсказания между этими классами калоссальна: 0.662 против 0.08)    \n",
    "- Поолжительно же повлияла на наши предсказания разряженность матрицы наших текстов."
   ]
  },
  {
   "cell_type": "code",
   "execution_count": null,
   "metadata": {},
   "outputs": [],
   "source": []
  }
 ],
 "metadata": {
  "colab": {
   "name": "дз по алгосам.ipynb",
   "provenance": []
  },
  "kernelspec": {
   "display_name": "Python 3",
   "language": "python",
   "name": "python3"
  },
  "language_info": {
   "codemirror_mode": {
    "name": "ipython",
    "version": 3
   },
   "file_extension": ".py",
   "mimetype": "text/x-python",
   "name": "python",
   "nbconvert_exporter": "python",
   "pygments_lexer": "ipython3",
   "version": "3.7.6"
  }
 },
 "nbformat": 4,
 "nbformat_minor": 1
}
