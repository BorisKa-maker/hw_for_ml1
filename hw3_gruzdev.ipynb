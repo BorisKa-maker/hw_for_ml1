{
 "cells": [
  {
   "cell_type": "markdown",
   "metadata": {},
   "source": [
    "### Алгоритмы интеллектуальной обработки больших объемов данных\n",
    "## Домашнее задание №3 - Дерево решений\n"
   ]
  },
  {
   "cell_type": "markdown",
   "metadata": {},
   "source": [
    "**Общая информация**\n",
    "\n",
    "**Срок сдачи:** 27 апреля 2020, 08:30   \n",
    "**Штраф за опоздание:** -2 балла после 08:30 27 апреля, -4 балла после 08:30 4 мая, -6 баллов после 08:30 11 мая, -8 баллов после 08:30 18 мая.\n",
    "\n",
    "При отправлении ДЗ указывайте фамилию в названии файла Присылать ДЗ необходимо в виде ссылки на свой github репозиторий на почту ml1.sphere@mail.ru с указанием темы в следующем формате:\n",
    "[ML0220, Задание 3] Фамилия Имя. \n",
    "\n",
    "\n",
    "Используйте данный Ipython Notebook при оформлении домашнего задания."
   ]
  },
  {
   "cell_type": "markdown",
   "metadata": {},
   "source": [
    "##  Реализуем дерево решений (3 балла)"
   ]
  },
  {
   "cell_type": "markdown",
   "metadata": {},
   "source": [
    "Допишите недостающие части дерева решений. Ваша реализация дерева должна работать по точности не хуже DecisionTreeClassifier из sklearn.\n",
    "Внимание: если Вас не устраивает предложенная структура хранения дерева, Вы без потери баллов можете сделать свой класс DecisionTreeClassifier, в котором сами полностью воспроизведете алгоритм дерева решений. Обязательно в нем иметь только функции fit, predict"
   ]
  },
  {
   "cell_type": "code",
   "execution_count": 1,
   "metadata": {},
   "outputs": [],
   "source": [
    "import matplotlib.pyplot as plt\n",
    "import numpy as np\n",
    "import pandas as pd\n",
    "\n",
    "from sklearn.base import BaseEstimator,ClassifierMixin\n",
    "from sklearn.datasets import load_wine\n",
    "from sklearn.ensemble import RandomForestClassifier\n",
    "from sklearn.metrics import accuracy_score,f1_score\n",
    "from sklearn.model_selection import KFold, train_test_split, GridSearchCV, RandomizedSearchCV,StratifiedKFold,cross_val_score\n",
    "from sklearn.tree import DecisionTreeClassifier\n",
    "from collections import defaultdict"
   ]
  },
  {
   "cell_type": "code",
   "execution_count": 2,
   "metadata": {},
   "outputs": [],
   "source": [
    "import warnings\n",
    "\n",
    "warnings.filterwarnings('ignore')"
   ]
  },
  {
   "cell_type": "code",
   "execution_count": 160,
   "metadata": {},
   "outputs": [],
   "source": [
    "class MyDecisionTreeClassifier(BaseEstimator, ClassifierMixin):\n",
    "    NON_LEAF_TYPE = 0\n",
    "    LEAF_TYPE = 1\n",
    "\n",
    "    def __init__(self, min_samples_split=2, max_depth=5, criterion='gini',feature_importances = None):\n",
    "        \"\"\"\n",
    "        criterion -- критерий расщепления. необходимо релизовать три:\n",
    "        Ошибка классификации, Индекс Джини, Энтропийный критерий\n",
    "        max_depth -- максимальная глубина дерева\n",
    "        min_samples_split -- минимальное число объектов в листе, чтобы сделать новый сплит\n",
    "        \"\"\"\n",
    "        self.num_class = 0\n",
    "        self.min_samples_split = min_samples_split\n",
    "        self.max_depth = max_depth\n",
    "        self.criterion = criterion\n",
    "        # Для последнего задания\n",
    "        self.feature_importances_ = feature_importances\n",
    "        self.criterion = criterion\n",
    "        # Структура, которая описывает дерево\n",
    "        # Представляет словарь, где для  node_id (айдишник узла дерева) храним\n",
    "        # (тип_узла, айдишник признака сплита, порог сплита) если тип NON_LEAF_TYPE\n",
    "        # (тип_узла, предсказание класса, вероятность класса) если тип LEAF_TYPE\n",
    "        # Подразумевается, что у каждого node_id в дереве слева \n",
    "        # узел с айди 2 * node_id + 1, а справа 2 * node_id + 2\n",
    "        self.tree = dict()\n",
    "        \n",
    "        if(self.criterion == 'gini'):\n",
    "            self.g_func = self.__F_g\n",
    "        elif(self.criterion == 'entro'):\n",
    "            self.g_func = self.__F_h\n",
    "        elif(self.criterion == 'comp'):\n",
    "            self.g_func = self.__F_e\n",
    "        if(self.feature_importances_ is not None):\n",
    "            self._fitch_dict = defaultdict(int)\n",
    "    \n",
    "    def __find_trash(self,x,y,indec):\n",
    "        ind = x[:,indec].argsort()\n",
    "        y_sort = y[ind]\n",
    "        x_sort = x[:,indec][ind]\n",
    "        num_class = self.num_class\n",
    "        swap_ind = np.where(y_sort[:-1]!=y_sort[1:])[0] +1#находим все разделители\n",
    "        if(swap_ind.size == 0):#если все объекты одного класса ничего не разделяем, \n",
    "            return -np.inf,None\n",
    "        swap_size = swap_ind.size\n",
    "        ZerOne = np.zeros((swap_size,num_class))#матрица, в которой за 1 отвечает класс разделитель\n",
    "        ZerOne[np.arange(swap_size),y_sort[swap_ind-1]] = 1\n",
    "        new_swap = np.copy(swap_ind)\n",
    "        swap_ind[1:] = swap_ind[1:] - swap_ind[:-1]\n",
    "        counts = swap_ind.reshape(-1,1)\n",
    "        New_MAtrix = ZerOne * (counts)#количесвто объектов между разделениями одного класса\n",
    "        label =  np.bincount(y_sort, minlength=num_class)#количество классов вообще\n",
    "        l_l = np.cumsum(New_MAtrix,axis = 0)#колличества классов слева после разбиения\n",
    "        l_r = label - l_l #справа\n",
    "        shape_l = new_swap.reshape(l_l.shape[0], 1)#общее количество объектов слева\n",
    "        shape_r = y.size - shape_l #справа\n",
    "        g_func = self.g_func(l_l,shape_l,l_r,shape_r)\n",
    "       # print(g_func.shape)\n",
    "        ind = (g_func).argmax()\n",
    "        return g_func[ind],(x_sort[new_swap[ind]] + x_sort[new_swap[ind]])/2\n",
    "\n",
    "\n",
    "    def __F_g(self,l_c, l_s, r_c, r_s):\n",
    "        l_s = l_s.astype('float').reshape(-1,1)\n",
    "        r_s = r_s.astype('float').reshape(-1,1)\n",
    "        F_1 = (1 - np.sum(((l_c+r_c)/(l_s+r_s))**2,axis = 1)).reshape(-1,1)\n",
    "        F_l = (1 - np.sum(((l_c)/(l_s))**2,axis = 1)).reshape(-1,1)*l_s/(l_s+r_s)\n",
    "        F_r = (1 - np.sum(((r_c)/(r_s))**2,axis = 1)).reshape(-1,1)*r_s/(l_s+r_s)\n",
    "        return F_1 - F_l - F_r\n",
    "    def __F_h(self,l_c, l_s, r_c, r_s):\n",
    "        a = np.random.rand()/1000\n",
    "        l_s = l_s.astype('float') + a\n",
    "        r_s = r_s.astype('float') + a\n",
    "        F_1 = (-np.sum((l_c+r_c+a)/(l_s+r_s)*np.log((l_c+r_c+a)/(l_s+r_s)),axis = 1)).reshape(-1,1)\n",
    "        F_l = (-np.sum((l_c+a)/l_s*np.log((l_c+a)/l_s),axis = 1)).reshape(-1,1)*l_s/(l_s+r_s)\n",
    "        F_r = (-np.sum(((r_c+a)/r_s)*np.log((r_c+a)/r_s),axis = 1)).reshape(-1,1)*r_s/(l_s+r_s)\n",
    "        return F_1 - F_l - F_r\n",
    "    def __F_e(self,l_c, l_s, r_c, r_s):\n",
    "        l_s = l_s.astype('float')\n",
    "        r_s = r_s.astype('float')\n",
    "        F_1 = (1 - np.max((l_c+r_c)/(l_s+r_s),axis = 1)).reshape(-1,1)\n",
    "        F_l = (1 - np.max((l_c)/(l_s),axis = 1)).reshape(-1,1)*l_s/(l_s+r_s)\n",
    "        F_r = (1 - np.max((r_c)/(r_s),axis = 1)).reshape(-1,1)*r_s/(l_s+r_s)\n",
    "        return F_1 - F_l - F_r\n",
    "    \n",
    "    def __div_samples(self, x, y, feature_id, threshold):\n",
    "        \"\"\"\n",
    "        Разделяет объекты на 2 множества\n",
    "        x -- матрица объектов\n",
    "        y -- вектор ответов\n",
    "        feature_id -- айдишник признака, по которому делаем сплит\n",
    "        threshold -- порог, по которому делаем сплит\n",
    "        \"\"\"\n",
    "        left_mask = x[:, feature_id] > threshold\n",
    "        right_mask = ~left_mask\n",
    "        return x[left_mask], x[right_mask], y[left_mask], y[right_mask]\n",
    "\n",
    "    def __find_threshold(self, x, y):\n",
    "        \"\"\"\n",
    "        Находим оптимальный признак и порог для сплита\n",
    "        Здесь используемые разные impurity в зависимости от self.criterion\n",
    "        \"\"\"\n",
    "        indec = np.arange(x.shape[1])\n",
    "        return  max([(self.__find_trash(x,y,i),i) for i in indec])\n",
    "\n",
    "    def __fit_node(self, x, y, node_id, depth):\n",
    "        \"\"\"\n",
    "        Делаем новый узел в дереве\n",
    "        Решаем, терминальный он или нет\n",
    "        Если нет, то строим левый узел  с айди 2 * node_id + 1\n",
    "        И правый узел с  айди 2 * node_id + 2\n",
    "        \"\"\"\n",
    "        if(self.max_depth is not None and self.max_depth<=depth) or\\\n",
    "           (y.size <= self.min_samples_split) or (np.bincount(y).shape[0] == 1):\n",
    "            a,b = np.unique(y,return_counts = True)\n",
    "            MAX_B = b.argmax()\n",
    "            c = a[MAX_B]\n",
    "            p = b[MAX_B]/y.size\n",
    "            self.tree[node_id] = (self.LEAF_TYPE,c,p)\n",
    "        else:\n",
    "            kof1,best_id = self.__find_threshold(x, y)\n",
    "            best_tr = kof1[1]\n",
    "            if best_tr is None:\n",
    "                self.tree[node_id] = (self.LEAF_TYPE, np.bincount(y).argmax(), np.bincount(y).astype(float) / y.size)\n",
    "            else:\n",
    "                x_l, x_r, y_l, y_r =self.__div_samples(x, y, best_id, best_tr)\n",
    "                if(self.feature_importances_ is not None):\n",
    "                    self._fitch_dict[best_id] += kof1[0]\n",
    "                if(y_l.size == 0 or y_r.size == 0):\n",
    "                    a,b = np.unique(y,return_counts = True)\n",
    "                    MAX_B = b.argmax()\n",
    "                    c = a[MAX_B]\n",
    "                    p = b[MAX_B]/y.size\n",
    "                    self.tree[node_id] = (self.LEAF_TYPE,c,p)\n",
    "                else:\n",
    "                    self.tree[node_id] = (self.NON_LEAF_TYPE,best_id, best_tr)\n",
    "                    self.__fit_node(x_l, y_l,2 * node_id + 1, depth + 1)\n",
    "                    self.__fit_node(x_r, y_r, 2 * node_id + 2, depth + 1)\n",
    "        \n",
    "        \n",
    "        \n",
    "    def fit(self, x, y):\n",
    "        \"\"\"\n",
    "        Рекурсивно строим дерево решений\n",
    "        Начинаем с корня node_id 0\n",
    "        \"\"\"\n",
    "        self.num_class = np.unique(y).size\n",
    "        self.num_class = np.unique(y).size\n",
    "        self.__fit_node(x, y, 0, 0) \n",
    "\n",
    "    def __predict_class(self, x, node_id):\n",
    "        \"\"\"\n",
    "        Рекурсивно обходим дерево по всем узлам,\n",
    "        пока не дойдем до терминального\n",
    "        \"\"\"\n",
    "        node = self.tree[node_id]\n",
    "        if node[0] == self.__class__.NON_LEAF_TYPE:\n",
    "            _, feature_id, threshold = node\n",
    "            if x[feature_id] > threshold:\n",
    "                return self.__predict_class(x, 2 * node_id + 1)\n",
    "            else:\n",
    "                return self.__predict_class(x, 2 * node_id + 2)\n",
    "        else:\n",
    "            return node[1]\n",
    "        \n",
    "    def predict(self, X):\n",
    "        \"\"\"\n",
    "        Вызывает predict для всех объектов из матрицы X\n",
    "        \"\"\"\n",
    "        return np.array([self.__predict_class(x, 0) for x in X])\n",
    "    \n",
    "    def fit_predict(self, x_train, y_train, predicted_x):\n",
    "        self.fit(x_train, y_train)\n",
    "        return self.predict(predicted_x)\n",
    "    \n",
    "    def get_feature_importance(self,N):\n",
    "        \"\"\"\n",
    "        Возвращает важность признаков\n",
    "        \"\"\"\n",
    "        item = sorted(self._fitch_dict.items(),\n",
    "                      key = lambda par: par[1],reverse = True)[:N]\n",
    "        return item\n",
    "    "
   ]
  },
  {
   "cell_type": "code",
   "execution_count": 161,
   "metadata": {},
   "outputs": [],
   "source": [
    "my_clf = MyDecisionTreeClassifier(min_samples_split=2)\n",
    "clf = DecisionTreeClassifier(min_samples_split=2)"
   ]
  },
  {
   "cell_type": "code",
   "execution_count": 162,
   "metadata": {},
   "outputs": [],
   "source": [
    "wine = load_wine()\n",
    "X_train, X_test, y_train, y_test = train_test_split(wine.data, wine.target, test_size=0.1, stratify=wine.target)"
   ]
  },
  {
   "cell_type": "code",
   "execution_count": 163,
   "metadata": {},
   "outputs": [],
   "source": [
    "clf.fit(X_train, y_train)\n",
    "my_clf.fit(X_train, y_train)"
   ]
  },
  {
   "cell_type": "code",
   "execution_count": 164,
   "metadata": {},
   "outputs": [
    {
     "name": "stdout",
     "output_type": "stream",
     "text": [
      "0.8888888888888888\n",
      "0.8888888888888888\n"
     ]
    }
   ],
   "source": [
    "print(accuracy_score(y_pred=clf.predict(X_test), y_true=y_test))\n",
    "print(accuracy_score(y_pred=my_clf.predict(X_test), y_true=y_test))"
   ]
  },
  {
   "cell_type": "markdown",
   "metadata": {},
   "source": [
    "## Ускоряем дерево решений (2 балла)\n",
    "Добиться скорости работы на fit не медленнее чем в 10 раз sklearn на данных wine. \n",
    "Для этого используем numpy."
   ]
  },
  {
   "cell_type": "code",
   "execution_count": 165,
   "metadata": {},
   "outputs": [],
   "source": [
    "my_clf = MyDecisionTreeClassifier(min_samples_split=2)\n",
    "clf = DecisionTreeClassifier(min_samples_split=2)"
   ]
  },
  {
   "cell_type": "code",
   "execution_count": 166,
   "metadata": {
    "scrolled": true
   },
   "outputs": [
    {
     "name": "stdout",
     "output_type": "stream",
     "text": [
      "Wall time: 2 ms\n"
     ]
    },
    {
     "data": {
      "text/plain": [
       "DecisionTreeClassifier(ccp_alpha=0.0, class_weight=None, criterion='gini',\n",
       "                       max_depth=None, max_features=None, max_leaf_nodes=None,\n",
       "                       min_impurity_decrease=0.0, min_impurity_split=None,\n",
       "                       min_samples_leaf=1, min_samples_split=2,\n",
       "                       min_weight_fraction_leaf=0.0, presort='deprecated',\n",
       "                       random_state=None, splitter='best')"
      ]
     },
     "execution_count": 166,
     "metadata": {},
     "output_type": "execute_result"
    }
   ],
   "source": [
    "%time clf.fit(X_train, y_train)"
   ]
  },
  {
   "cell_type": "code",
   "execution_count": 167,
   "metadata": {},
   "outputs": [
    {
     "name": "stdout",
     "output_type": "stream",
     "text": [
      "Wall time: 18 ms\n"
     ]
    }
   ],
   "source": [
    "%time my_clf.fit(X_train, y_train)"
   ]
  },
  {
   "cell_type": "markdown",
   "metadata": {},
   "source": [
    "## Боевое применение (3 балла)\n",
    "\n",
    "На практике Вы познакомились с датасетом Speed Dating Data. В нем каждая пара в быстрых свиданиях характеризуется определенным набором признаков. Задача -- предсказать, произойдет ли матч пары (колонка match). \n",
    "\n",
    "Пример работы с датасетом можете найти в практике пункт 2\n",
    "https://github.com/VVVikulin/ml1.sphere/blob/master/2019-09/lecture_06/pract-trees.ipynb\n",
    "\n",
    "Данные и описания колонок лежат тут\n",
    "https://cloud.mail.ru/public/8nHV/p6J7wY1y1/speed-dating-experiment/"
   ]
  },
  {
   "cell_type": "markdown",
   "metadata": {},
   "source": [
    "Скачайте датасет, обработайте данные, как показано на семинаре или своим собственным способом. Обучите дерево классифкации. В качестве таргета возьмите колонку 'match'. Постарайтесь хорошо обработать признаки, чтобы выбить максимальную точность. Если точность будет близка к случайному гаданию, задание не будет защитано. \n"
   ]
  },
  {
   "cell_type": "code",
   "execution_count": 169,
   "metadata": {},
   "outputs": [],
   "source": [
    "\n",
    "df = pd.read_csv('C:/Users/willi/OneDrive/Рабочий стол/техносфера/1 семак/Алгоритмы интелектуальной обработки больших данных/'\n",
    "                       '3 дз/Speed Dating Data.csv', encoding='latin1')\n",
    "\n",
    "\n",
    "df = df.iloc[:, :97]\n",
    "df = df.drop(['id', 'idg', 'condtn', 'round', 'position',\n",
    "              'positin1', 'order', 'partner', 'age_o', 'race_o',\n",
    "              'pf_o_att', 'pf_o_sin', 'pf_o_int', 'pf_o_fun',\n",
    "              'pf_o_amb', 'pf_o_sha', 'dec_o', 'attr_o',\n",
    "              'sinc_o', 'intel_o', 'fun_o', 'amb_o',\n",
    "              'shar_o', 'like_o', 'prob_o', 'met_o', 'field',\n",
    "              'undergra', 'from', 'zipcode', 'career',\n",
    "              'sports', 'tvsports', 'exercise', 'dining',\n",
    "              'museums', 'art', 'hiking', 'gaming',\n",
    "              'clubbing', 'reading', 'tv', 'theater',\n",
    "              'movies', 'concerts', 'music', 'shopping', 'yoga',\n",
    "              'expnum', ], axis=1)\n",
    "\n",
    "\n",
    "df = df.dropna(subset=['age'])\n",
    "df.loc[:, 'field_cd'] = df.loc[:, 'field_cd'].fillna(19)\n",
    "df.loc[:, 'mn_sat'] = df.loc[:, 'mn_sat'].str.replace(',', '').astype(np.float)\n",
    "df.loc[:, 'mn_sat'] = df.mn_sat.fillna(-999)\n",
    "df.loc[:, 'tuition'] = df.loc[:, 'tuition'].str.replace(',', '').astype(np.float)\n",
    "df.loc[:, 'tuition'] = df.tuition.fillna(-999)\n",
    "df = df.dropna(subset=['imprelig', 'imprace'])\n",
    "df.loc[:, 'income'] = df.loc[:, 'income'].str.replace(',', '').astype(np.float)\n",
    "df.loc[:, 'income'] = df.loc[:, 'income'].fillna(-999)\n",
    "df = df.dropna(subset=['date'])\n",
    "df.loc[:, 'career_c'] = df.loc[:, 'career_c'].fillna(18)\n",
    "\n",
    "\n",
    "feat = ['iid', 'wave', 'attr1_1', 'sinc1_1', 'intel1_1', 'fun1_1', 'amb1_1', 'shar1_1']\n",
    "temp = df.drop_duplicates(subset=['iid', 'wave']).loc[:, feat]\n",
    "df.loc[:, 'temp_totalsum'] = df.loc[:, ['attr1_1', 'sinc1_1', 'intel1_1', 'fun1_1', 'amb1_1', 'shar1_1']].sum(axis=1)\n",
    "\n",
    "df.loc[:, ['attr1_1', 'sinc1_1', 'intel1_1', 'fun1_1', 'amb1_1', 'shar1_1']] =\\\n",
    "    (df.loc[:, ['attr1_1', 'sinc1_1', 'intel1_1', 'fun1_1', 'amb1_1', 'shar1_1']].T / df.loc[:, 'temp_totalsum'].T).T * 100\n",
    "\n",
    "\n",
    "feat = ['iid', 'wave', 'attr2_1', 'sinc2_1', 'intel2_1', 'fun2_1', 'amb2_1', 'shar2_1']\n",
    "\n",
    "temp = df.drop_duplicates(subset=['iid', 'wave']).loc[:, feat]\n",
    "temp.loc[:, 'totalsum'] = temp.iloc[:, 2:].sum(axis=1)\n",
    "df.loc[:, 'temp_totalsum'] = df.loc[:, ['attr2_1', 'sinc2_1', 'intel2_1', 'fun2_1', 'amb2_1', 'shar2_1']].sum(axis=1)\n",
    "\n",
    "df.loc[:, ['attr2_1', 'sinc2_1', 'intel2_1', 'fun2_1', 'amb2_1', 'shar2_1']] =\\\n",
    "    (df.loc[:, ['attr2_1', 'sinc2_1', 'intel2_1', 'fun2_1', 'amb2_1', 'shar2_1']].T / df.loc[:, 'temp_totalsum'].T).T * 100\n",
    "\n",
    "df = df.drop(['temp_totalsum'], axis=1)\n",
    "\n",
    "\n",
    "for i in [4, 5]:\n",
    "    feat = ['attr{}_1'.format(i), 'sinc{}_1'.format(i),\n",
    "            'intel{}_1'.format(i), 'fun{}_1'.format(i),\n",
    "            'amb{}_1'.format(i), 'shar{}_1'.format(i)]\n",
    "    if i != 4:\n",
    "        feat.remove('shar{}_1'.format(i))\n",
    "    df = df.drop(feat, axis=1)\n",
    "    \n",
    "df = df.drop(['wave'], axis=1)\n",
    "\n",
    "df_male = df.query('gender == 1').drop_duplicates(subset=['iid', 'pid']).drop(['gender'], axis=1).dropna()\n",
    "df_female = df.query('gender == 0').drop_duplicates(subset=['iid']).drop(['gender', 'match', 'int_corr', 'samerace'], axis=1)\\\n",
    "                                   .dropna()\n",
    "df_female.columns = df_female.columns + '_f'\n",
    "df_female = df_female.drop(['pid_f'], axis=1)\n",
    "df_pair = df_male.join(df_female.set_index('iid_f'), on='pid', how='inner')\n",
    "df_pair = df_pair.drop(['iid', 'pid'], axis=1)\n",
    "\n",
    "feature_names = df_pair.columns[1:]"
   ]
  },
  {
   "cell_type": "code",
   "execution_count": 174,
   "metadata": {},
   "outputs": [
    {
     "data": {
      "text/plain": [
       "(3999, 63)"
      ]
     },
     "execution_count": 174,
     "metadata": {},
     "output_type": "execute_result"
    }
   ],
   "source": [
    "df_pair.shape"
   ]
  },
  {
   "cell_type": "code",
   "execution_count": 170,
   "metadata": {},
   "outputs": [
    {
     "name": "stdout",
     "output_type": "stream",
     "text": [
      "0.81\n",
      "0.8225\n"
     ]
    }
   ],
   "source": [
    "y = df_pair.loc[:, 'match'].values\n",
    "X = df_pair.drop('match', axis=1).iloc[:,0:].values\n",
    "\n",
    "X_train, X_test, y_train, y_test = train_test_split(X, y, test_size=0.1)\n",
    "\n",
    "my_clf = MyDecisionTreeClassifier()\n",
    "clf = DecisionTreeClassifier(min_samples_split=2,max_depth=5,criterion='gini')\n",
    "\n",
    "clf.fit(X_train, y_train)\n",
    "my_clf.fit(X_train, y_train)\n",
    "\n",
    "\n",
    "print(accuracy_score(y_pred=clf.predict(X_test), y_true=y_test))\n",
    "print(accuracy_score(y_pred=my_clf.predict(X_test), y_true=y_test))"
   ]
  },
  {
   "cell_type": "code",
   "execution_count": 171,
   "metadata": {},
   "outputs": [
    {
     "name": "stdout",
     "output_type": "stream",
     "text": [
      "Wall time: 32 ms\n"
     ]
    },
    {
     "data": {
      "text/plain": [
       "DecisionTreeClassifier(ccp_alpha=0.0, class_weight=None, criterion='gini',\n",
       "                       max_depth=5, max_features=None, max_leaf_nodes=None,\n",
       "                       min_impurity_decrease=0.0, min_impurity_split=None,\n",
       "                       min_samples_leaf=1, min_samples_split=2,\n",
       "                       min_weight_fraction_leaf=0.0, presort='deprecated',\n",
       "                       random_state=None, splitter='best')"
      ]
     },
     "execution_count": 171,
     "metadata": {},
     "output_type": "execute_result"
    }
   ],
   "source": [
    "%time clf.fit(X_train, y_train)"
   ]
  },
  {
   "cell_type": "code",
   "execution_count": 172,
   "metadata": {},
   "outputs": [
    {
     "name": "stdout",
     "output_type": "stream",
     "text": [
      "Wall time: 206 ms\n"
     ]
    }
   ],
   "source": [
    "%time my_clf.fit(X_train, y_train)"
   ]
  },
  {
   "cell_type": "markdown",
   "metadata": {},
   "source": [
    "Разбейте датасет на трейн и валидацию. Подберите на валидации оптимальный критерий  информативности. \n",
    "Постройте графики зависимости точности на валидации от глубины дерева, от минимального числа объектов для сплита. \n",
    "Какой максимальной точности удалось достигнуть?"
   ]
  },
  {
   "cell_type": "code",
   "execution_count": 124,
   "metadata": {},
   "outputs": [],
   "source": [
    "def best_criterion(X,y,cv):\n",
    "    names_criterion = ['gini','entro','comp']\n",
    "    means = []\n",
    "    for name in names_criterion:\n",
    "        model = MyDecisionTreeClassifier(min_samples_split=2,\n",
    "                                         criterion = name)\n",
    "\n",
    "        means.append(cross_val_score(model, X, y, cv=cv, scoring=\"accuracy\").mean())\n",
    "    return means\n",
    "\n",
    "def best_deep(X,y,cv,depths,criterion,mod = 'my'):\n",
    "    means = []\n",
    "    for depth in depths:\n",
    "        if(mod == 'my'):\n",
    "            model = MyDecisionTreeClassifier(min_samples_split = 2,\n",
    "                                             max_depth = depth,\n",
    "                                             criterion = criterion)\n",
    "        else:\n",
    "            model = DecisionTreeClassifier(min_samples_split=2,\n",
    "                                           max_depth = depth)\n",
    "            \n",
    "            \n",
    "        means.append(cross_val_score(model, X, y, cv=cv, scoring=\"accuracy\").mean())\n",
    "    return means\n",
    "\n",
    "def best_min_samples(X,y,cv,criterion,max_depth,samples):\n",
    "    means = []\n",
    "    for sample in samples:\n",
    "        model = MyDecisionTreeClassifier(min_samples_split=sample,\n",
    "                                         max_depth = max_depth,\n",
    "                                        criterion = criterion)\n",
    "        means.append(cross_val_score(model, X, y, cv=cv, scoring=\"accuracy\").mean())\n",
    "    return means\n",
    "\n",
    "    \n",
    "    "
   ]
  },
  {
   "cell_type": "code",
   "execution_count": 125,
   "metadata": {},
   "outputs": [],
   "source": [
    "means_criterions = best_criterion(X_train,y_train,cv = 8)"
   ]
  },
  {
   "cell_type": "code",
   "execution_count": 126,
   "metadata": {},
   "outputs": [
    {
     "data": {
      "text/plain": [
       "[0.8338424894828013, 0.8374560752289038, 0.8335647117050236]"
      ]
     },
     "execution_count": 126,
     "metadata": {},
     "output_type": "execute_result"
    }
   ],
   "source": [
    "means_criterions"
   ]
  },
  {
   "cell_type": "code",
   "execution_count": 127,
   "metadata": {},
   "outputs": [],
   "source": [
    "best_criterion = ['gini','entro','comp'][np.argmax(means_criterions)]"
   ]
  },
  {
   "cell_type": "code",
   "execution_count": 128,
   "metadata": {},
   "outputs": [
    {
     "data": {
      "text/plain": [
       "{'gini': 0.8338424894828013,\n",
       " 'entro': 0.8374560752289038,\n",
       " 'comp': 0.8335647117050236}"
      ]
     },
     "execution_count": 128,
     "metadata": {},
     "output_type": "execute_result"
    }
   ],
   "source": [
    "dict(zip(['gini','entro','comp'],means_criterions))"
   ]
  },
  {
   "cell_type": "code",
   "execution_count": 129,
   "metadata": {},
   "outputs": [],
   "source": [
    "depths = np.arange(10,100)\n",
    "means_deep = best_deep(X = X_train,\n",
    "                       y = y_train,\n",
    "                       cv = 8,\n",
    "                       depths = depths,\n",
    "                      criterion = 'entro')"
   ]
  },
  {
   "cell_type": "code",
   "execution_count": 130,
   "metadata": {},
   "outputs": [],
   "source": [
    "best_depth = depths[np.argmax(means_deep)]"
   ]
  },
  {
   "cell_type": "code",
   "execution_count": 131,
   "metadata": {},
   "outputs": [],
   "source": [
    "samples = np.arange(1,100)\n",
    "means_samples = best_min_samples(X = X_train,\n",
    "                                 y = y_train,\n",
    "                                 cv = 8,\n",
    "                                 samples = samples,\n",
    "                                 criterion = 'entro',\n",
    "                                 max_depth = best_depth)"
   ]
  },
  {
   "cell_type": "code",
   "execution_count": 132,
   "metadata": {},
   "outputs": [],
   "source": [
    "best_sample =  samples[np.argmax(means_samples)]"
   ]
  },
  {
   "cell_type": "code",
   "execution_count": 133,
   "metadata": {},
   "outputs": [
    {
     "data": {
      "image/png": "[encoded data removed]",
      "text/plain": [
       "<Figure size 864x1080 with 2 Axes>"
      ]
     },
     "metadata": {
      "needs_background": "light"
     },
     "output_type": "display_data"
    }
   ],
   "source": [
    "fig,axes = plt.subplots(2,1,figsize = (12,15))\n",
    "\n",
    "axes[0].plot(depths,means_deep)\n",
    "axes[1].plot(samples,means_samples)\n",
    "\n",
    "axes[0].set_ylabel(u'Средняя $f_1$-мера',fontsize = 15)\n",
    "axes[1].set_ylabel(u'Средняя $f_1$-мера',fontsize = 15)\n",
    "\n",
    "axes[0].set_xlabel(u'Максимальная глубина',fontsize = 15)\n",
    "axes[1].set_xlabel(u'Минимальное количество элементов в листе',fontsize = 15)\n",
    "\n",
    "axes[0].set_title(u'Зависимость $f_1$-меры от максимальной глубины',fontsize = 20)\n",
    "axes[1].set_title(u'Зависимость $f_1$-меры от миниального количества элементов в листе',fontsize = 20)\n",
    "\n",
    "fig.tight_layout()"
   ]
  },
  {
   "cell_type": "markdown",
   "metadata": {},
   "source": [
    "На данных графиках видно, что, в случае принятия в качестве функционала качества функционала, построенного на энтропии, дерево начинает сильно переобучаться при увеличении максимальной глубины и уменьшении минимального количества элементов в листе."
   ]
  },
  {
   "cell_type": "code",
   "execution_count": 134,
   "metadata": {},
   "outputs": [
    {
     "data": {
      "text/plain": [
       "0.8343955704033656"
      ]
     },
     "execution_count": 134,
     "metadata": {},
     "output_type": "execute_result"
    }
   ],
   "source": [
    "means_samples[np.argmax(means_samples)]#Лучший результат"
   ]
  },
  {
   "cell_type": "markdown",
   "metadata": {},
   "source": [
    "## Находим самые важные признаки (2 балла)\n",
    "\n"
   ]
  },
  {
   "cell_type": "markdown",
   "metadata": {},
   "source": [
    "По построенному дереву  легко понять, какие признаки лучше всего помогли решить задачу. Часто это бывает нужно  не только  для сокращения размерности в данных, но и для лучшего понимания прикладной задачи. Например, Вы хотите понять, какие признаки стоит еще конструировать -- для этого нужно понимать, какие из текущих лучше всего работают в дереве. "
   ]
  },
  {
   "cell_type": "markdown",
   "metadata": {},
   "source": [
    "Самый простой метод -- посчитать число сплитов, где использовался данные признак. Это не лучший вариант, так как по признаку который принимает всего 2 значения, но который почти точно разделяет выборку, число сплитов будет очень 1, но при этом признак сам очень хороший. \n",
    "В этом задании предлагается для каждого признака считать суммарный gain (в лекции обозначено как Q) при использовании этого признака в сплите. Тогда даже у очень хороших признаков с маленьким число сплитов это значение должно быть довольно высоким.  "
   ]
  },
  {
   "cell_type": "markdown",
   "metadata": {},
   "source": [
    "Реализовать это довольно просто: создаете словарь номер фичи : суммарный гейн и добавляете в нужную фичу каждый раз, когда используете ее при построении дерева. "
   ]
  },
  {
   "cell_type": "markdown",
   "metadata": {},
   "source": [
    "Добавьте функционал, который определяет значения feature importance. Обучите дерево на датасете Speed Dating Data.\n",
    "Выведите 10 главных фичей по важности."
   ]
  },
  {
   "cell_type": "code",
   "execution_count": 135,
   "metadata": {},
   "outputs": [],
   "source": [
    "my_clf = MyDecisionTreeClassifier(criterion = best_criterion,\n",
    "                                  max_depth = best_depth,\n",
    "                                  min_samples_split = best_sample,\n",
    "                                  feature_importances = True)\n",
    "my_clf.fit(X_train, y_train)"
   ]
  },
  {
   "cell_type": "code",
   "execution_count": 136,
   "metadata": {},
   "outputs": [],
   "source": [
    "first = my_clf.get_feature_importance(10)"
   ]
  },
  {
   "cell_type": "code",
   "execution_count": 137,
   "metadata": {},
   "outputs": [],
   "source": [
    "featchs = []\n",
    "for i,column in enumerate(df.columns):\n",
    "    featchs.append((i,column))"
   ]
  },
  {
   "cell_type": "code",
   "execution_count": 138,
   "metadata": {},
   "outputs": [],
   "source": [
    "def features_name(first_feature,sec_feature):\n",
    "    names = []\n",
    "    for indc in first_feature:\n",
    "        for nm in sec_feature:\n",
    "            if(indc[0] == nm[0]):\n",
    "                names.append(nm[1])\n",
    "    return names"
   ]
  },
  {
   "cell_type": "code",
   "execution_count": 139,
   "metadata": {},
   "outputs": [
    {
     "data": {
      "text/plain": [
       "['tuition', 'intel3_1', 'imprelig', 'fun2_1', 'intel2_1', 'imprace']"
      ]
     },
     "execution_count": 139,
     "metadata": {},
     "output_type": "execute_result"
    }
   ],
   "source": [
    "features_name(first,featchs)#самые значимые критерии"
   ]
  },
  {
   "cell_type": "markdown",
   "metadata": {},
   "source": [
    "На валидации были получены структурные параметры, которые позволяют обучить дерево за меньшее количество сплитов, чем 10, за счет чего всего было получено меньше 10 наиболее значимых критериев."
   ]
  },
  {
   "cell_type": "markdown",
   "metadata": {},
   "source": [
    "## Фидбек (бесценно)"
   ]
  },
  {
   "cell_type": "markdown",
   "metadata": {},
   "source": [
    "* Какие аспекты обучения деревьев решений Вам показались непонятными? Какое место стоит дополнительно объяснить?"
   ]
  },
  {
   "cell_type": "markdown",
   "metadata": {},
   "source": [
    "### Ваш ответ здесь"
   ]
  },
  {
   "cell_type": "markdown",
   "metadata": {},
   "source": [
    "* Здесь Вы можете оставить отзыв о этой домашней работе или о всем курсе."
   ]
  },
  {
   "cell_type": "markdown",
   "metadata": {},
   "source": [
    "### ВАШ ОТЗЫВ ЗДЕСЬ\n",
    "\n"
   ]
  },
  {
   "cell_type": "markdown",
   "metadata": {
    "collapsed": true
   },
   "source": [
    "Решающие деревья являются интересными математическими алгоритмами  принятия решений. С их помощью можно выделять важные признаки, а также получать хорошее качество предсказаний на табличных данных. Интересно еще то, что решающие деревья обучаются очень быстро, несмотря на то, что при их обучении не используются градиентные методы подбора параметров. "
   ]
  },
  {
   "cell_type": "code",
   "execution_count": null,
   "metadata": {},
   "outputs": [],
   "source": []
  }
 ],
 "metadata": {
  "anaconda-cloud": {},
  "kernelspec": {
   "display_name": "Python 3",
   "language": "python",
   "name": "python3"
  },
  "language_info": {
   "codemirror_mode": {
    "name": "ipython",
    "version": 3
   },
   "file_extension": ".py",
   "mimetype": "text/x-python",
   "name": "python",
   "nbconvert_exporter": "python",
   "pygments_lexer": "ipython3",
   "version": "3.7.6"
  }
 },
 "nbformat": 4,
 "nbformat_minor": 2
}
